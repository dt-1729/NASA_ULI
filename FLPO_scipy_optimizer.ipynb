{
 "cells": [
  {
   "attachments": {},
   "cell_type": "markdown",
   "metadata": {},
   "source": [
    "Dhananjay Tiwari,\n",
    "Ph.D. Mechanical Engineering,\n",
    "Mechanical Engineering Laboratory, 1204\n",
    "University of Illinois at Urbana Champaign"
   ]
  },
  {
   "attachments": {},
   "cell_type": "markdown",
   "metadata": {},
   "source": [
    "This file has the code for implementation of FLPO optimization problem using using scipy optimizers"
   ]
  },
  {
   "cell_type": "code",
   "execution_count": null,
   "metadata": {},
   "outputs": [],
   "source": [
    "# include libraries and dependencies\n",
    "import numpy as np # eh! computational python programming and not include this? Can't happen!"
   ]
  },
  {
   "cell_type": "code",
   "execution_count": null,
   "metadata": {},
   "outputs": [],
   "source": [
    "# define the structure of FLPO problem\n",
    "N = 1 # number of nodes\n",
    "M = 3 # number of facilities\n"
   ]
  },
  {
   "cell_type": "code",
   "execution_count": 1,
   "metadata": {},
   "outputs": [],
   "source": [
    "# create FLPO class and define its associated functions\n",
    "class FLPO():\n",
    "\n",
    "    # define data members of the class\n",
    "    n : int # number of nodes\n",
    "    f : int # number of facilities\n",
    "    M : int # number of stages\n",
    "    node_id : list # node indices\n",
    "    fac_id : list # facility indices\n",
    "    dest_id : list # destination id\n",
    "    fac_param : dict # facility parameters\n",
    "\n",
    "    def __init__(self, n, f, M):\n",
    "        # this function intializes the FLPO structure with assigned values\n",
    "\n",
    "        self.n = n # initialize the number of nodes\n",
    "        self.f = f # initialize the number of facilities\n",
    "\n",
    "    def distortion(pb_asn, fac_param): # depends probability associations and parameters of facilities\n",
    "        return 0\n",
    "    \n",
    "    def entropy(pb_asn): # depends on probability associations\n",
    "        return 0\n",
    "    \n",
    "    def free_energy():\n",
    "        return 0\n",
    "\n"
   ]
  }
 ],
 "metadata": {
  "kernelspec": {
   "display_name": "Python 3",
   "language": "python",
   "name": "python3"
  },
  "language_info": {
   "codemirror_mode": {
    "name": "ipython",
    "version": 3
   },
   "file_extension": ".py",
   "mimetype": "text/x-python",
   "name": "python",
   "nbconvert_exporter": "python",
   "pygments_lexer": "ipython3",
   "version": "3.9.6"
  },
  "orig_nbformat": 4
 },
 "nbformat": 4,
 "nbformat_minor": 2
}
