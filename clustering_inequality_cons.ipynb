{
 "cells": [
  {
   "cell_type": "code",
   "execution_count": 16,
   "metadata": {},
   "outputs": [],
   "source": [
    "# Dhananjay Tiwari,\n",
    "# Graduate Student, Mechanical Engineering, Coordinated Science Laboratory, UIUC\n",
    "# Created on : July 17, 2023\n",
    "# This file implements clustering algorithm with inequality constraints"
   ]
  },
  {
   "cell_type": "code",
   "execution_count": 17,
   "metadata": {},
   "outputs": [],
   "source": [
    "# import modules\n",
    "import numpy as np # Computational python programming and not include this? Can't happen!\n",
    "import matplotlib.pyplot as plt # module to make plots"
   ]
  },
  {
   "cell_type": "code",
   "execution_count": 18,
   "metadata": {},
   "outputs": [],
   "source": [
    "# create FLP class and its associated functions\n",
    "class FLP():\n",
    "\n",
    "    # declare the class variables\n",
    "    N : int # number of resources\n",
    "    M : int # number of facilities\n",
    "    resLoc : np.ndarray # resource locations\n",
    "    facLoc : np.ndarray # facility locations (initial)\n",
    "    P : np.ndarray # association matrix between resources and facilities (P-probabilities)\n",
    "    Phi : np.ndarray # probability array for inequality constraints getting satisfied (Phi-probabilities)\n",
    "\n",
    "    # initialize the class variables\n",
    "    def __init__(self, N, M, resLoc, facLoc):\n",
    "        self.N = N\n",
    "        self.M = M\n",
    "        self.resLoc = resLoc\n",
    "        self.facLoc = facLoc\n",
    "        self.P = np.ones([N, M])\n",
    "        self.P = self.P / np.sum(self.P, axis = 1, keepdims=True) # normalize the P-probabilities\n",
    "        self.Phi = np.ones([M, 1])*1e-5 # start with a small Phi-probabilities\n",
    "\n",
    "        print('================= Class FLP() initialized =================')\n",
    "\n",
    "    # compute the association cost matrix between the resources and the facilities\n",
    "    def association_cost_matrix(self):\n",
    "        ''' \n",
    "        input: self, the class instance\n",
    "        output: association cost matrix of size N x M\n",
    "        '''\n",
    "        # initialize the association cost matrix\n",
    "        D = np.zeros([self.N, self.M])\n",
    "\n",
    "        X = self.resLoc, Y = self.facLoc # access resource and facility locations\n",
    "        tileX = np.kron(np.ones([1,self.M]), X)\n",
    "        flatY = np.reshape(Y, [1,2*self.M])\n",
    "        diff = tileX - flatY\n",
    "        split = np.split_array(diff, self.M)\n",
    "        D = np.linalg.norm(split, axis = self.M-1)\n",
    "\n",
    "        return D\n",
    "    \n",
    "    # compute the set of all inequality constraint functions\n",
    "    def ineq_cons(self, facLoc):\n",
    "        '''\n",
    "        input - self: the class instance\n",
    "                func_ineq: an array of inequality constraint functions\n",
    "        output - vec_ineq: a vector of inequality constraints of the form - vec_ineq <= 0\n",
    "        '''\n",
    "        # initialize the inequality constraint vectors\n",
    "        num_ineq = self.M\n",
    "        vec_ineq = np.zeros([num_ineq, 1])\n",
    "        # circular inequality constraint\n",
    "        center = np.array([[10, 10], [10,10], [20,20], [30,30]])\n",
    "        radius = np.array([[1],[1],[1],[1]])\n",
    "        vec_ineq = radius - np.linalg.norm(facLoc - center, axis = 1, keepdims=True)\n",
    "        return vec_ineq\n",
    "    \n",
    "    # compute the probability associations using gibbs distribution\n",
    "    def gibbs_associations(self, beta, gamma, Lambda, xi, R):\n",
    "        ''' \n",
    "        input - self: the class instance\n",
    "        output - Phi: Phi-probabilities\n",
    "                 P: P-probabilities\n",
    "        '''\n",
    "        # first compute Phi-probabiltiies\n",
    "        exp_term = np.exp(np.max(100, -gamma * np.multiply(Lambda, np.tanh(xi*self.ineq_cons(self.facLoc)))))\n",
    "        Phi = exp_term / (1 + exp_term)\n",
    "        # then compute P-probabilities\n",
    "        D = self.association_cost_matrix()\n",
    "        Lambda_tile = np.kron(np.ones([1, self.M]), Lambda)\n",
    "        Phi_tile = np.kron(np.ones([1, self.M]), Phi)\n",
    "        sech_term = np.kron(np.ones([1, self.M]), 1/np.cosh(xi*self.ineq_cons(self.facLoc))**2)\n",
    "        num = np.exp(-beta * (D + xi*np.multiply(Lambda_tile, np.multiply(Phi_tile, np.multiply(R, sech_term)))))\n",
    "        den = np.kron(np.ones([1, self.M]), np.sum(num, axis = 1))\n",
    "        P = num/den\n",
    "        return Phi, P\n"
   ]
  },
  {
   "cell_type": "code",
   "execution_count": 19,
   "metadata": {},
   "outputs": [],
   "source": [
    "# define functions to assist the implementation\n",
    "\n",
    "def testcases(tc_name):\n",
    "    ''' \n",
    "    input - tc_name: name of the testcase\n",
    "    output - N: number of resources\n",
    "             M: number of facilities\n",
    "             resLoc: resource locations\n",
    "             facLoc: facility locations (initial)\n",
    "    '''\n",
    "    if 'small_tc_40_4' == tc_name :\n",
    "        d = 2 # dimension of the coordinates\n",
    "        N = 40 # number of resources\n",
    "        M = 4 # number of facilties\n",
    "        mean = [np.array([0,0]), np.array([3,4]), np.array([-4,-3]), np.array([-5,5])] # cluster means\n",
    "        cov = [np.array([[2, 0],[0, 3]]),\n",
    "               np.array([[5, 4],[4, 5]]),\n",
    "               np.array([[6, 3],[3, 3]]),\n",
    "               np.array([[4, 2],[2, 6]])] # cluster covariances\n",
    "        split = [12, 8, 9, 11] # no of points in every cluster\n",
    "        resLoc = np.zeros([N, d]) # initialize resource locations\n",
    "        facLoc = np.zeros([M, d]) # intiialize facility locations\n",
    "        # generate resource and facility locations using normal distribution\n",
    "        cnt = 0\n",
    "        for i in range(len(mean)):\n",
    "            resLoc[cnt:cnt+split[i], :] = np.random.multivariate_normal(mean[i], cov[i], split[i])\n",
    "            cnt = cnt + split[i]\n",
    "\n",
    "    return N, M, resLoc, facLoc"
   ]
  },
  {
   "cell_type": "code",
   "execution_count": 20,
   "metadata": {},
   "outputs": [
    {
     "name": "stdout",
     "output_type": "stream",
     "text": [
      " ================ Small Testcase 1 ================ \n"
     ]
    },
    {
     "data": {
      "image/png": "[encoded data removed]",
      "text/plain": [
       "<Figure size 640x480 with 1 Axes>"
      ]
     },
     "metadata": {},
     "output_type": "display_data"
    },
    {
     "name": "stdout",
     "output_type": "stream",
     "text": [
      "================= Class FLP() initialized =================\n"
     ]
    },
    {
     "ename": "TypeError",
     "evalue": "only integer scalar arrays can be converted to a scalar index",
     "output_type": "error",
     "traceback": [
      "\u001b[0;31m---------------------------------------------------------------------------\u001b[0m",
      "\u001b[0;31mTypeError\u001b[0m                                 Traceback (most recent call last)",
      "Cell \u001b[0;32mIn[20], line 23\u001b[0m\n\u001b[1;32m     20\u001b[0m Lambda \u001b[39m=\u001b[39m np\u001b[39m.\u001b[39mones([M, \u001b[39m1\u001b[39m])\u001b[39m*\u001b[39m\u001b[39m1\u001b[39m\n\u001b[1;32m     21\u001b[0m xi \u001b[39m=\u001b[39m \u001b[39m100\u001b[39m\n\u001b[0;32m---> 23\u001b[0m Phi, P \u001b[39m=\u001b[39m flp\u001b[39m.\u001b[39;49mgibbs_associations(beta, gamma, Lambda, xi, R \u001b[39m=\u001b[39;49m np\u001b[39m.\u001b[39;49mzeros([N, M]))\n\u001b[1;32m     24\u001b[0m \u001b[39mprint\u001b[39m(Phi)\n\u001b[1;32m     25\u001b[0m \u001b[39m# print(P)\u001b[39;00m\n",
      "Cell \u001b[0;32mIn[18], line 66\u001b[0m, in \u001b[0;36mFLP.gibbs_associations\u001b[0;34m(self, beta, gamma, Lambda, xi, R)\u001b[0m\n\u001b[1;32m     60\u001b[0m \u001b[39m\u001b[39m\u001b[39m''' \u001b[39;00m\n\u001b[1;32m     61\u001b[0m \u001b[39minput - self: the class instance\u001b[39;00m\n\u001b[1;32m     62\u001b[0m \u001b[39moutput - Phi: Phi-probabilities\u001b[39;00m\n\u001b[1;32m     63\u001b[0m \u001b[39m         P: P-probabilities\u001b[39;00m\n\u001b[1;32m     64\u001b[0m \u001b[39m'''\u001b[39;00m\n\u001b[1;32m     65\u001b[0m \u001b[39m# first compute Phi-probabiltiies\u001b[39;00m\n\u001b[0;32m---> 66\u001b[0m exp_term \u001b[39m=\u001b[39m np\u001b[39m.\u001b[39mexp(np\u001b[39m.\u001b[39;49mmax(\u001b[39m100\u001b[39;49m, \u001b[39m-\u001b[39;49mgamma \u001b[39m*\u001b[39;49m np\u001b[39m.\u001b[39;49mmultiply(Lambda, np\u001b[39m.\u001b[39;49mtanh(xi\u001b[39m*\u001b[39;49m\u001b[39mself\u001b[39;49m\u001b[39m.\u001b[39;49mineq_cons(\u001b[39mself\u001b[39;49m\u001b[39m.\u001b[39;49mfacLoc)))))\n\u001b[1;32m     67\u001b[0m Phi \u001b[39m=\u001b[39m exp_term \u001b[39m/\u001b[39m (\u001b[39m1\u001b[39m \u001b[39m+\u001b[39m exp_term)\n\u001b[1;32m     68\u001b[0m \u001b[39m# then compute P-probabilities\u001b[39;00m\n",
      "File \u001b[0;32m<__array_function__ internals>:180\u001b[0m, in \u001b[0;36mamax\u001b[0;34m(*args, **kwargs)\u001b[0m\n",
      "File \u001b[0;32m~/Library/Python/3.9/lib/python/site-packages/numpy/core/fromnumeric.py:2793\u001b[0m, in \u001b[0;36mamax\u001b[0;34m(a, axis, out, keepdims, initial, where)\u001b[0m\n\u001b[1;32m   2677\u001b[0m \u001b[39m@array_function_dispatch\u001b[39m(_amax_dispatcher)\n\u001b[1;32m   2678\u001b[0m \u001b[39mdef\u001b[39;00m \u001b[39mamax\u001b[39m(a, axis\u001b[39m=\u001b[39m\u001b[39mNone\u001b[39;00m, out\u001b[39m=\u001b[39m\u001b[39mNone\u001b[39;00m, keepdims\u001b[39m=\u001b[39mnp\u001b[39m.\u001b[39m_NoValue, initial\u001b[39m=\u001b[39mnp\u001b[39m.\u001b[39m_NoValue,\n\u001b[1;32m   2679\u001b[0m          where\u001b[39m=\u001b[39mnp\u001b[39m.\u001b[39m_NoValue):\n\u001b[1;32m   2680\u001b[0m \u001b[39m    \u001b[39m\u001b[39m\"\"\"\u001b[39;00m\n\u001b[1;32m   2681\u001b[0m \u001b[39m    Return the maximum of an array or maximum along an axis.\u001b[39;00m\n\u001b[1;32m   2682\u001b[0m \n\u001b[0;32m   (...)\u001b[0m\n\u001b[1;32m   2791\u001b[0m \u001b[39m    5\u001b[39;00m\n\u001b[1;32m   2792\u001b[0m \u001b[39m    \"\"\"\u001b[39;00m\n\u001b[0;32m-> 2793\u001b[0m     \u001b[39mreturn\u001b[39;00m _wrapreduction(a, np\u001b[39m.\u001b[39;49mmaximum, \u001b[39m'\u001b[39;49m\u001b[39mmax\u001b[39;49m\u001b[39m'\u001b[39;49m, axis, \u001b[39mNone\u001b[39;49;00m, out,\n\u001b[1;32m   2794\u001b[0m                           keepdims\u001b[39m=\u001b[39;49mkeepdims, initial\u001b[39m=\u001b[39;49minitial, where\u001b[39m=\u001b[39;49mwhere)\n",
      "File \u001b[0;32m~/Library/Python/3.9/lib/python/site-packages/numpy/core/fromnumeric.py:86\u001b[0m, in \u001b[0;36m_wrapreduction\u001b[0;34m(obj, ufunc, method, axis, dtype, out, **kwargs)\u001b[0m\n\u001b[1;32m     83\u001b[0m         \u001b[39melse\u001b[39;00m:\n\u001b[1;32m     84\u001b[0m             \u001b[39mreturn\u001b[39;00m reduction(axis\u001b[39m=\u001b[39maxis, out\u001b[39m=\u001b[39mout, \u001b[39m*\u001b[39m\u001b[39m*\u001b[39mpasskwargs)\n\u001b[0;32m---> 86\u001b[0m \u001b[39mreturn\u001b[39;00m ufunc\u001b[39m.\u001b[39;49mreduce(obj, axis, dtype, out, \u001b[39m*\u001b[39;49m\u001b[39m*\u001b[39;49mpasskwargs)\n",
      "\u001b[0;31mTypeError\u001b[0m: only integer scalar arrays can be converted to a scalar index"
     ]
    }
   ],
   "source": [
    "# implement the FLP algorithm on a 2D example problem\n",
    "print(' ================ Small Testcase 1 ================ ')\n",
    "N, M, resLoc, facLoc = testcases('small_tc_40_4')\n",
    "plt.scatter(resLoc[:, 0], resLoc[:, 1], marker = \".\")\n",
    "plt.scatter(facLoc[:, 0], facLoc[:, 1], marker = \"+\")\n",
    "plt.title('Facility and resource locations - N = ' + str(N) + ', M = ' + str(M))\n",
    "plt.legend(['resources', 'facilities'])\n",
    "plt.grid()\n",
    "plt.show()\n",
    "\n",
    "# initialize the FLP class\n",
    "flp = FLP(N, M, resLoc, facLoc)\n",
    "# print('initial P-probabilities = \\n', flp.P)\n",
    "# print('initial Phi-probabilities = \\n', flp.Phi)\n",
    "\n",
    "# Initialize the annealing parameters/constants/weights\n",
    "rho = np.ones([N, 1]) # resource weights\n",
    "beta = 1e-8 # entropy term annealing parameter\n",
    "gamma = 100 # inequality term annealing parameter\n",
    "Lambda = np.ones([M, 1])*1\n",
    "xi = 100\n",
    "\n",
    "Phi, P = flp.gibbs_associations(beta, gamma, Lambda, xi, R = np.zeros([N, M]))\n",
    "print(Phi)\n",
    "# print(P)\n",
    "\n",
    "while beta < 100:\n",
    "    # flp.Phi, flp.P = flp.gibbs_associations(gamma, Lambda, xi)\n",
    "#     optimize free energy w.r.t. facility locations\n",
    "#     update facility locations\n",
    "    beta = 10*beta"
   ]
  },
  {
   "cell_type": "code",
   "execution_count": null,
   "metadata": {},
   "outputs": [],
   "source": []
  },
  {
   "cell_type": "code",
   "execution_count": 173,
   "metadata": {},
   "outputs": [
    {
     "name": "stdout",
     "output_type": "stream",
     "text": [
      "inf\n"
     ]
    },
    {
     "name": "stderr",
     "output_type": "stream",
     "text": [
      "/var/folders/sh/ndxykdmj1q9cwr2kpvkvcbs80000gn/T/ipykernel_2529/2494013014.py:11: RuntimeWarning: overflow encountered in exp\n",
      "  print(np.exp(999))\n"
     ]
    }
   ],
   "source": [
    "# test block for functions\n",
    "\n",
    "def apply_function(func, x):\n",
    "   return func[0](x), func[1](x)\n",
    "def square1(x):\n",
    "   return x ** 2\n",
    "def sum(x):\n",
    "   return x + x\n",
    "result = apply_function(np.array([square1, sum]), 3)"
   ]
  }
 ],
 "metadata": {
  "kernelspec": {
   "display_name": "Python 3",
   "language": "python",
   "name": "python3"
  },
  "language_info": {
   "codemirror_mode": {
    "name": "ipython",
    "version": 3
   },
   "file_extension": ".py",
   "mimetype": "text/x-python",
   "name": "python",
   "nbconvert_exporter": "python",
   "pygments_lexer": "ipython3",
   "version": "3.9.6"
  },
  "orig_nbformat": 4
 },
 "nbformat": 4,
 "nbformat_minor": 2
}
